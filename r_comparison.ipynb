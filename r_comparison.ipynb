{
 "cells": [
  {
   "cell_type": "markdown",
   "id": "27b7f40e",
   "metadata": {},
   "source": [
    "# Example usage of the PyDarkDiv library"
   ]
  },
  {
   "cell_type": "code",
   "execution_count": null,
   "id": "07698a72",
   "metadata": {},
   "outputs": [],
   "source": [
    "# !pip install -e .\n",
    "import pydarkdiv as pdd\n",
    "import numpy as np"
   ]
  },
  {
   "cell_type": "code",
   "execution_count": 45,
   "id": "c14547a3",
   "metadata": {},
   "outputs": [
    {
     "data": {
      "text/plain": [
       "array([[0, 1, 0, 0, 0],\n",
       "       [1, 0, 0, 0, 1],\n",
       "       [0, 0, 0, 0, 1],\n",
       "       [0, 1, 1, 1, 0],\n",
       "       [1, 0, 1, 1, 1]], dtype=int32)"
      ]
     },
     "execution_count": 45,
     "metadata": {},
     "output_type": "execute_result"
    }
   ],
   "source": [
    "# Test using a simple dummy dataset of 5 species x 5 points\n",
    "np.random.seed(42)\n",
    "data = np.random.randint(0, 2, size=(5, 5))\n",
    "data"
   ]
  },
  {
   "cell_type": "code",
   "execution_count": 46,
   "id": "f75e68be",
   "metadata": {},
   "outputs": [],
   "source": [
    "darkdiv = pdd.DarkDiv(data)"
   ]
  },
  {
   "cell_type": "code",
   "execution_count": 47,
   "id": "627478dd",
   "metadata": {},
   "outputs": [
    {
     "data": {
      "text/plain": [
       "array([[0.09121122, 1.        , 0.63055866, 0.63055866, 0.02275013],\n",
       "       [1.        , 0.04779035, 0.5       , 0.5       , 1.        ],\n",
       "       [0.90878878, 0.02275013, 0.36944134, 0.36944134, 1.        ],\n",
       "       [0.41207045, 1.        , 1.        , 1.        , 0.1870314 ],\n",
       "       [1.        , 0.25249254, 1.        , 1.        , 1.        ]])"
      ]
     },
     "execution_count": 47,
     "metadata": {},
     "output_type": "execute_result"
    }
   ],
   "source": [
    "darkdiv.pool"
   ]
  },
  {
   "cell_type": "code",
   "execution_count": 48,
   "id": "1dd2ecd5",
   "metadata": {},
   "outputs": [
    {
     "data": {
      "text/plain": [
       "array([[0.09121122,        nan, 0.63055866, 0.63055866, 0.02275013],\n",
       "       [       nan, 0.04779035, 0.5       , 0.5       ,        nan],\n",
       "       [0.90878878, 0.02275013, 0.36944134, 0.36944134,        nan],\n",
       "       [0.41207045,        nan,        nan,        nan, 0.1870314 ],\n",
       "       [       nan, 0.25249254,        nan,        nan,        nan]])"
      ]
     },
     "execution_count": 48,
     "metadata": {},
     "output_type": "execute_result"
    }
   ],
   "source": [
    "darkdiv.dark"
   ]
  },
  {
   "cell_type": "markdown",
   "id": "b40168ae",
   "metadata": {},
   "source": [
    "# Comparing to R DarkDiv\n",
    "Just to make sure we have implemented the code correctly, lets compare the results with the R implementation of DarkDiv."
   ]
  },
  {
   "cell_type": "markdown",
   "id": "437d5a81",
   "metadata": {},
   "source": [
    "```{R}\n",
    "library(DarkDiv)\n",
    "\n",
    "data = matrix(c(0,1,0,0,0,1,0,0,0,1,0,0,0,0,1,0,1,1,1,0,1,0,1,1,1), byrow = T, nrow = 5)\n",
    "\n",
    "data\n",
    "     [,1] [,2] [,3] [,4] [,5]\n",
    "[1,]    0    1    0    0    0\n",
    "[2,]    1    0    0    0    1\n",
    "[3,]    0    0    0    0    1\n",
    "[4,]    0    1    1    1    0\n",
    "[5,]    1    0    1    1    1\n",
    "\n",
    "data.frame(data)\n",
    "\n",
    "```"
   ]
  },
  {
   "cell_type": "markdown",
   "id": "f6850d37",
   "metadata": {},
   "source": [
    "```{R}\n",
    "$Pool\n",
    "             X1         X2        X3        X4         X5\n",
    "[1,] 0.09121122 1.00000000 0.6305587 0.6305587 0.02275013\n",
    "[2,] 1.00000000 0.04779035 0.5000000 0.5000000 1.00000000\n",
    "[3,] 0.90878878 0.02275013 0.3694413 0.3694413 1.00000000\n",
    "[4,] 0.41207045 1.00000000 1.0000000 1.0000000 0.18703140\n",
    "[5,] 1.00000000 0.25249254 1.0000000 1.0000000 1.00000000\n",
    "\n",
    "$Dark\n",
    "             X1         X2        X3        X4         X5\n",
    "[1,] 0.09121122         NA 0.6305587 0.6305587 0.02275013\n",
    "[2,]         NA 0.04779035 0.5000000 0.5000000         NA\n",
    "[3,] 0.90878878 0.02275013 0.3694413 0.3694413         NA\n",
    "[4,] 0.41207045         NA        NA        NA 0.18703140\n",
    "[5,]         NA 0.25249254        NA        NA         NA\n",
    "```"
   ]
  },
  {
   "cell_type": "markdown",
   "id": "0d0f0b23",
   "metadata": {},
   "source": [
    "We can see that the results are accurately reproduced in the Python implementation of the R code."
   ]
  }
 ],
 "metadata": {
  "kernelspec": {
   "display_name": "pydarkdiv-py3.13 (3.13.5)",
   "language": "python",
   "name": "python3"
  },
  "language_info": {
   "codemirror_mode": {
    "name": "ipython",
    "version": 3
   },
   "file_extension": ".py",
   "mimetype": "text/x-python",
   "name": "python",
   "nbconvert_exporter": "python",
   "pygments_lexer": "ipython3",
   "version": "3.13.5"
  }
 },
 "nbformat": 4,
 "nbformat_minor": 5
}
